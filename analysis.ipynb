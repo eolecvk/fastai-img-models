{
 "cells": [
  {
   "cell_type": "markdown",
   "id": "d38310a0-755d-43fa-9ff7-8487ab562bb4",
   "metadata": {},
   "source": [
    "Install requirements"
   ]
  },
  {
   "cell_type": "code",
   "execution_count": 33,
   "id": "be5c5f3a-88e2-42ec-99b2-6405dc1ea9a2",
   "metadata": {},
   "outputs": [],
   "source": [
    "!pip install fastcore >/dev/null 2>&1\n",
    "!pip install wandb >/dev/null 2>&1\n",
    "!pip install ghapi >/dev/null 2>&1"
   ]
  },
  {
   "cell_type": "markdown",
   "id": "b0344156-eefc-4518-bdea-0700d0d46be9",
   "metadata": {},
   "source": [
    "Wandb login"
   ]
  },
  {
   "cell_type": "code",
   "execution_count": 107,
   "id": "776fc267-36c4-49c5-9257-9f113b40fa76",
   "metadata": {},
   "outputs": [
    {
     "data": {
      "text/plain": [
       "True"
      ]
     },
     "execution_count": 107,
     "metadata": {},
     "output_type": "execute_result"
    }
   ],
   "source": [
    "import wandb\n",
    "wandb.login()"
   ]
  },
  {
   "cell_type": "markdown",
   "id": "21b3931d-6fd9-49cc-986a-f52ee0b038cc",
   "metadata": {},
   "source": [
    "Fetch sweep output data"
   ]
  },
  {
   "cell_type": "code",
   "execution_count": 108,
   "id": "a07cb3ed-221c-4c3c-afab-ee05bcfb5d52",
   "metadata": {},
   "outputs": [],
   "source": [
    "import wandb,os\n",
    "from fastcore.all import *\n",
    "import pandas as pd\n",
    "\n",
    "api = wandb.Api()\n",
    "\n",
    "sweep_ids = [\n",
    "    'eolecvka/fastai_timm/sweeps/ygh90vj4'\n",
    "]\n",
    "sweeps = concat(api.sweep(o).runs for o in sweep_ids)\n",
    "summs = [{**r.summary, 'model_name':r.config['model_name']} for r in sweeps]\n",
    "\n",
    "df = pd.DataFrame(summs)\n",
    "df['dataset'] = 'planet'\n",
    "df.loc[df['accuracy_multi'].isna(), 'dataset'] = 'pets'\n",
    "df.loc[df['dataset']=='planet', 'accuracy'] = df.loc[df['dataset']=='planet', 'accuracy_multi']\n",
    "df['error_rate'] = 1-df.accuracy\n",
    "\n",
    "pd.set_option('display.max_columns', None)\n",
    "# df"
   ]
  },
  {
   "cell_type": "markdown",
   "id": "9c4c54c8-c99b-4aad-9896-8b3dde50f3e0",
   "metadata": {},
   "source": [
    "Build summary tables"
   ]
  },
  {
   "cell_type": "code",
   "execution_count": 109,
   "id": "8b916079",
   "metadata": {},
   "outputs": [],
   "source": [
    "# cols = ['dataset', 'model_name', 'GPU_mem', 'error_rate', 'valid_loss', 'train_loss', 'fit_time']\n",
    "cols = ['model_name', 'dataset', 'fit_time', '_runtime', 'accuracy']\n",
    "\n",
    "df_pets = df.loc[df['dataset']=='pets']\n",
    "df_planets = df.loc[df['dataset']=='planet']\n",
    "\n",
    "df_pets_top_models_acc = df_pets[columns].groupby(['model_name']).agg('max').sort_values('accuracy', ascending=False).dropna()\n",
    "df_planets_top_models_acc =df_planets[columns].groupby(['model_name']).agg('max').sort_values('accuracy', ascending=False).dropna()"
   ]
  },
  {
   "cell_type": "code",
   "execution_count": 110,
   "id": "c029a7dd-4131-49ba-bbe8-7da43d202959",
   "metadata": {},
   "outputs": [
    {
     "data": {
      "text/html": [
       "<div>\n",
       "<style scoped>\n",
       "    .dataframe tbody tr th:only-of-type {\n",
       "        vertical-align: middle;\n",
       "    }\n",
       "\n",
       "    .dataframe tbody tr th {\n",
       "        vertical-align: top;\n",
       "    }\n",
       "\n",
       "    .dataframe thead th {\n",
       "        text-align: right;\n",
       "    }\n",
       "</style>\n",
       "<table border=\"1\" class=\"dataframe\">\n",
       "  <thead>\n",
       "    <tr style=\"text-align: right;\">\n",
       "      <th></th>\n",
       "      <th>dataset</th>\n",
       "      <th>fit_time</th>\n",
       "      <th>_runtime</th>\n",
       "      <th>accuracy</th>\n",
       "    </tr>\n",
       "    <tr>\n",
       "      <th>model_name</th>\n",
       "      <th></th>\n",
       "      <th></th>\n",
       "      <th></th>\n",
       "      <th></th>\n",
       "    </tr>\n",
       "  </thead>\n",
       "  <tbody>\n",
       "    <tr>\n",
       "      <th>swin_large_patch4_window7_224</th>\n",
       "      <td>pets</td>\n",
       "      <td>315.925706</td>\n",
       "      <td>323.0</td>\n",
       "      <td>0.968877</td>\n",
       "    </tr>\n",
       "    <tr>\n",
       "      <th>swin_large_patch4_window7_224_in22k</th>\n",
       "      <td>pets</td>\n",
       "      <td>316.881157</td>\n",
       "      <td>324.0</td>\n",
       "      <td>0.968877</td>\n",
       "    </tr>\n",
       "    <tr>\n",
       "      <th>swin_base_patch4_window7_224</th>\n",
       "      <td>pets</td>\n",
       "      <td>216.031795</td>\n",
       "      <td>222.0</td>\n",
       "      <td>0.966170</td>\n",
       "    </tr>\n",
       "    <tr>\n",
       "      <th>swin_small_patch4_window7_224</th>\n",
       "      <td>pets</td>\n",
       "      <td>179.834561</td>\n",
       "      <td>186.0</td>\n",
       "      <td>0.964141</td>\n",
       "    </tr>\n",
       "    <tr>\n",
       "      <th>vit_base_patch16_224</th>\n",
       "      <td>pets</td>\n",
       "      <td>140.045095</td>\n",
       "      <td>146.0</td>\n",
       "      <td>0.962788</td>\n",
       "    </tr>\n",
       "  </tbody>\n",
       "</table>\n",
       "</div>"
      ],
      "text/plain": [
       "                                    dataset    fit_time  _runtime  accuracy\n",
       "model_name                                                                 \n",
       "swin_large_patch4_window7_224          pets  315.925706     323.0  0.968877\n",
       "swin_large_patch4_window7_224_in22k    pets  316.881157     324.0  0.968877\n",
       "swin_base_patch4_window7_224           pets  216.031795     222.0  0.966170\n",
       "swin_small_patch4_window7_224          pets  179.834561     186.0  0.964141\n",
       "vit_base_patch16_224                   pets  140.045095     146.0  0.962788"
      ]
     },
     "execution_count": 110,
     "metadata": {},
     "output_type": "execute_result"
    }
   ],
   "source": [
    "df_pets_top_models_acc.head()"
   ]
  },
  {
   "cell_type": "code",
   "execution_count": 111,
   "id": "8b7b0c83-1aac-4da4-ae44-5715d8c362aa",
   "metadata": {},
   "outputs": [
    {
     "data": {
      "text/html": [
       "<div>\n",
       "<style scoped>\n",
       "    .dataframe tbody tr th:only-of-type {\n",
       "        vertical-align: middle;\n",
       "    }\n",
       "\n",
       "    .dataframe tbody tr th {\n",
       "        vertical-align: top;\n",
       "    }\n",
       "\n",
       "    .dataframe thead th {\n",
       "        text-align: right;\n",
       "    }\n",
       "</style>\n",
       "<table border=\"1\" class=\"dataframe\">\n",
       "  <thead>\n",
       "    <tr style=\"text-align: right;\">\n",
       "      <th></th>\n",
       "      <th>dataset</th>\n",
       "      <th>fit_time</th>\n",
       "      <th>_runtime</th>\n",
       "      <th>accuracy</th>\n",
       "    </tr>\n",
       "    <tr>\n",
       "      <th>model_name</th>\n",
       "      <th></th>\n",
       "      <th></th>\n",
       "      <th></th>\n",
       "      <th></th>\n",
       "    </tr>\n",
       "  </thead>\n",
       "  <tbody>\n",
       "    <tr>\n",
       "      <th>swin_large_patch4_window7_224_in22k</th>\n",
       "      <td>planet</td>\n",
       "      <td>52.546005</td>\n",
       "      <td>166.0</td>\n",
       "      <td>0.967059</td>\n",
       "    </tr>\n",
       "    <tr>\n",
       "      <th>swin_base_patch4_window7_224</th>\n",
       "      <td>planet</td>\n",
       "      <td>38.879868</td>\n",
       "      <td>59.0</td>\n",
       "      <td>0.965294</td>\n",
       "    </tr>\n",
       "    <tr>\n",
       "      <th>vit_base_patch16_224</th>\n",
       "      <td>planet</td>\n",
       "      <td>28.740349</td>\n",
       "      <td>95.0</td>\n",
       "      <td>0.965000</td>\n",
       "    </tr>\n",
       "    <tr>\n",
       "      <th>swin_base_patch4_window7_224_in22k</th>\n",
       "      <td>planet</td>\n",
       "      <td>39.011828</td>\n",
       "      <td>53.0</td>\n",
       "      <td>0.964706</td>\n",
       "    </tr>\n",
       "    <tr>\n",
       "      <th>swin_large_patch4_window7_224</th>\n",
       "      <td>planet</td>\n",
       "      <td>52.713881</td>\n",
       "      <td>77.0</td>\n",
       "      <td>0.964412</td>\n",
       "    </tr>\n",
       "  </tbody>\n",
       "</table>\n",
       "</div>"
      ],
      "text/plain": [
       "                                    dataset   fit_time  _runtime  accuracy\n",
       "model_name                                                                \n",
       "swin_large_patch4_window7_224_in22k  planet  52.546005     166.0  0.967059\n",
       "swin_base_patch4_window7_224         planet  38.879868      59.0  0.965294\n",
       "vit_base_patch16_224                 planet  28.740349      95.0  0.965000\n",
       "swin_base_patch4_window7_224_in22k   planet  39.011828      53.0  0.964706\n",
       "swin_large_patch4_window7_224        planet  52.713881      77.0  0.964412"
      ]
     },
     "execution_count": 111,
     "metadata": {},
     "output_type": "execute_result"
    }
   ],
   "source": [
    "df_planets_top_models_acc.head()"
   ]
  },
  {
   "cell_type": "markdown",
   "id": "85ec7d8c-91bd-497b-83e7-72f8a813e22b",
   "metadata": {},
   "source": [
    "Visual analysis"
   ]
  },
  {
   "cell_type": "code",
   "execution_count": 112,
   "id": "8fa9a680-2ba6-47ae-b5b0-d2b1f3d4531e",
   "metadata": {},
   "outputs": [
    {
     "data": {
      "image/png": "[encoded data removed]",
      "text/plain": [
       "<Figure size 432x288 with 1 Axes>"
      ]
     },
     "metadata": {
      "needs_background": "light"
     },
     "output_type": "display_data"
    }
   ],
   "source": [
    "import numpy as np\n",
    "import matplotlib.pyplot as plt\n",
    "\n",
    "x = df_planets_top_models_acc._runtime.tolist()\n",
    "y = df_planets_top_models_acc.accuracy.tolist()\n",
    "plt.scatter(x, y, alpha=0.5)\n",
    "plt.title(\"Cost-performance analysis of models fine-tuning on Planet dataset\")\n",
    "plt.xlabel(\"Runtime (seconds)\")\n",
    "plt.ylabel(\"Accuracy\")\n",
    "plt.show()"
   ]
  },
  {
   "cell_type": "code",
   "execution_count": 113,
   "id": "509637ae-92ac-4bbb-8591-2c2b0b0f9d3b",
   "metadata": {},
   "outputs": [
    {
     "data": {
      "image/png": "[encoded data removed]",
      "text/plain": [
       "<Figure size 432x288 with 1 Axes>"
      ]
     },
     "metadata": {
      "needs_background": "light"
     },
     "output_type": "display_data"
    }
   ],
   "source": [
    "import numpy as np\n",
    "import matplotlib.pyplot as plt\n",
    "\n",
    "x = df_pets_top_models_acc._runtime.tolist()\n",
    "y = df_pets_top_models_acc.accuracy.tolist()\n",
    "plt.scatter(x, y, alpha=0.5)\n",
    "plt.title(\"Cost-performance analysis of models fine-tuning on IIT Pets dataset\")\n",
    "plt.xlabel(\"Runtime (seconds)\")\n",
    "plt.ylabel(\"Accuracy\")\n",
    "plt.show()"
   ]
  },
  {
   "cell_type": "markdown",
   "id": "90b1cd1d-2a67-455e-b7a1-37c5df33f828",
   "metadata": {},
   "source": [
    "???"
   ]
  },
  {
   "cell_type": "code",
   "execution_count": 103,
   "id": "a18facf6-c0b0-476c-9abc-1e477a1ad452",
   "metadata": {},
   "outputs": [
    {
     "data": {
      "image/png": "[encoded data removed]",
      "text/plain": [
       "<Figure size 432x288 with 1 Axes>"
      ]
     },
     "metadata": {
      "needs_background": "light"
     },
     "output_type": "display_data"
    }
   ],
   "source": [
    "model_name = 'swin_large_patch4_window7_224_in22k'\n",
    "dataset_name = 'planet'\n",
    "\n",
    "model_finetuning_cost_perf = df.loc[\n",
    "    (df['model_name']==model_name) &\n",
    "    (df['dataset']==dataset_name)\n",
    "]\n",
    "\n",
    "import numpy as np\n",
    "import matplotlib.pyplot as plt\n",
    "\n",
    "x = model_finetuning_cost_perf._runtime.tolist()\n",
    "y = model_finetuning_cost_perf.accuracy.tolist()\n",
    "plt.scatter(x, y, alpha=0.5)\n",
    "plt.title(f\"Cost-performance analysis of models fine-tuning on {dataset_name} dataset\")\n",
    "plt.xlabel(\"Runtime (seconds)\")\n",
    "plt.ylabel(\"Accuracy\")\n",
    "plt.show()"
   ]
  },
  {
   "cell_type": "markdown",
   "id": "851c0b0f-2d6f-492d-b6bb-2c689c21a59a",
   "metadata": {},
   "source": [
    "Why does it look like this??"
   ]
  },
  {
   "cell_type": "code",
   "execution_count": 102,
   "id": "c206c2e0-fbbf-40af-96b6-b04f8da9505b",
   "metadata": {},
   "outputs": [
    {
     "data": {
      "text/html": [
       "<div>\n",
       "<style scoped>\n",
       "    .dataframe tbody tr th:only-of-type {\n",
       "        vertical-align: middle;\n",
       "    }\n",
       "\n",
       "    .dataframe tbody tr th {\n",
       "        vertical-align: top;\n",
       "    }\n",
       "\n",
       "    .dataframe thead th {\n",
       "        text-align: right;\n",
       "    }\n",
       "</style>\n",
       "<table border=\"1\" class=\"dataframe\">\n",
       "  <thead>\n",
       "    <tr style=\"text-align: right;\">\n",
       "      <th></th>\n",
       "      <th>train_loss</th>\n",
       "      <th>train_samples_per_sec</th>\n",
       "      <th>lr_0</th>\n",
       "      <th>eps_0</th>\n",
       "      <th>eps_1</th>\n",
       "      <th>sqr_mom_1</th>\n",
       "      <th>_timestamp</th>\n",
       "      <th>epoch</th>\n",
       "      <th>sqr_mom_0</th>\n",
       "      <th>valid_loss</th>\n",
       "      <th>wd_0</th>\n",
       "      <th>wd_1</th>\n",
       "      <th>mom_0</th>\n",
       "      <th>mom_1</th>\n",
       "      <th>accuracy</th>\n",
       "      <th>lr_1</th>\n",
       "      <th>_step</th>\n",
       "      <th>_runtime</th>\n",
       "      <th>raw_loss</th>\n",
       "      <th>error_rate</th>\n",
       "      <th>model_name</th>\n",
       "      <th>fit_time</th>\n",
       "      <th>model_family</th>\n",
       "      <th>GPU_mem</th>\n",
       "      <th>_wandb</th>\n",
       "      <th>fbeta_score</th>\n",
       "      <th>accuracy_multi</th>\n",
       "      <th>dataset</th>\n",
       "    </tr>\n",
       "  </thead>\n",
       "  <tbody>\n",
       "    <tr>\n",
       "      <th>246</th>\n",
       "      <td>0.045024</td>\n",
       "      <td>124.176724</td>\n",
       "      <td>1.594899e-10</td>\n",
       "      <td>0.00001</td>\n",
       "      <td>0.00001</td>\n",
       "      <td>0.99</td>\n",
       "      <td>1.657208e+09</td>\n",
       "      <td>6.0</td>\n",
       "      <td>0.99</td>\n",
       "      <td>0.130556</td>\n",
       "      <td>0.01</td>\n",
       "      <td>0.01</td>\n",
       "      <td>0.949999</td>\n",
       "      <td>0.949999</td>\n",
       "      <td>0.964817</td>\n",
       "      <td>1.594899e-08</td>\n",
       "      <td>1103.0</td>\n",
       "      <td>322.0</td>\n",
       "      <td>0.128044</td>\n",
       "      <td>0.035183</td>\n",
       "      <td>swin_large_patch4_window7_224_in22k</td>\n",
       "      <td>315.049255</td>\n",
       "      <td>swin</td>\n",
       "      <td>10.462891</td>\n",
       "      <td>{'runtime': 323}</td>\n",
       "      <td>NaN</td>\n",
       "      <td>NaN</td>\n",
       "      <td>pets</td>\n",
       "    </tr>\n",
       "    <tr>\n",
       "      <th>247</th>\n",
       "      <td>0.041803</td>\n",
       "      <td>123.195264</td>\n",
       "      <td>1.594899e-10</td>\n",
       "      <td>0.00001</td>\n",
       "      <td>0.00001</td>\n",
       "      <td>0.99</td>\n",
       "      <td>1.657208e+09</td>\n",
       "      <td>6.0</td>\n",
       "      <td>0.99</td>\n",
       "      <td>0.131292</td>\n",
       "      <td>0.01</td>\n",
       "      <td>0.01</td>\n",
       "      <td>0.949999</td>\n",
       "      <td>0.949999</td>\n",
       "      <td>0.965494</td>\n",
       "      <td>1.594899e-08</td>\n",
       "      <td>1103.0</td>\n",
       "      <td>324.0</td>\n",
       "      <td>0.007642</td>\n",
       "      <td>0.034506</td>\n",
       "      <td>swin_large_patch4_window7_224_in22k</td>\n",
       "      <td>316.881157</td>\n",
       "      <td>swin</td>\n",
       "      <td>10.455078</td>\n",
       "      <td>{'runtime': 325}</td>\n",
       "      <td>NaN</td>\n",
       "      <td>NaN</td>\n",
       "      <td>pets</td>\n",
       "    </tr>\n",
       "    <tr>\n",
       "      <th>248</th>\n",
       "      <td>0.042099</td>\n",
       "      <td>123.352278</td>\n",
       "      <td>1.594899e-10</td>\n",
       "      <td>0.00001</td>\n",
       "      <td>0.00001</td>\n",
       "      <td>0.99</td>\n",
       "      <td>1.657208e+09</td>\n",
       "      <td>6.0</td>\n",
       "      <td>0.99</td>\n",
       "      <td>0.141334</td>\n",
       "      <td>0.01</td>\n",
       "      <td>0.01</td>\n",
       "      <td>0.949999</td>\n",
       "      <td>0.949999</td>\n",
       "      <td>0.962111</td>\n",
       "      <td>1.594899e-08</td>\n",
       "      <td>1103.0</td>\n",
       "      <td>324.0</td>\n",
       "      <td>0.134295</td>\n",
       "      <td>0.037889</td>\n",
       "      <td>swin_large_patch4_window7_224_in22k</td>\n",
       "      <td>316.597845</td>\n",
       "      <td>swin</td>\n",
       "      <td>10.458984</td>\n",
       "      <td>{'runtime': 325}</td>\n",
       "      <td>NaN</td>\n",
       "      <td>NaN</td>\n",
       "      <td>pets</td>\n",
       "    </tr>\n",
       "    <tr>\n",
       "      <th>249</th>\n",
       "      <td>0.043783</td>\n",
       "      <td>123.965589</td>\n",
       "      <td>1.594899e-10</td>\n",
       "      <td>0.00001</td>\n",
       "      <td>0.00001</td>\n",
       "      <td>0.99</td>\n",
       "      <td>1.657207e+09</td>\n",
       "      <td>6.0</td>\n",
       "      <td>0.99</td>\n",
       "      <td>0.144168</td>\n",
       "      <td>0.01</td>\n",
       "      <td>0.01</td>\n",
       "      <td>0.949999</td>\n",
       "      <td>0.949999</td>\n",
       "      <td>0.959405</td>\n",
       "      <td>1.594899e-08</td>\n",
       "      <td>1103.0</td>\n",
       "      <td>323.0</td>\n",
       "      <td>0.022469</td>\n",
       "      <td>0.040595</td>\n",
       "      <td>swin_large_patch4_window7_224_in22k</td>\n",
       "      <td>315.575088</td>\n",
       "      <td>swin</td>\n",
       "      <td>10.482422</td>\n",
       "      <td>{'runtime': 324}</td>\n",
       "      <td>NaN</td>\n",
       "      <td>NaN</td>\n",
       "      <td>pets</td>\n",
       "    </tr>\n",
       "    <tr>\n",
       "      <th>250</th>\n",
       "      <td>0.050021</td>\n",
       "      <td>123.637075</td>\n",
       "      <td>1.594899e-10</td>\n",
       "      <td>0.00001</td>\n",
       "      <td>0.00001</td>\n",
       "      <td>0.99</td>\n",
       "      <td>1.657207e+09</td>\n",
       "      <td>6.0</td>\n",
       "      <td>0.99</td>\n",
       "      <td>0.127953</td>\n",
       "      <td>0.01</td>\n",
       "      <td>0.01</td>\n",
       "      <td>0.949999</td>\n",
       "      <td>0.949999</td>\n",
       "      <td>0.968877</td>\n",
       "      <td>1.594899e-08</td>\n",
       "      <td>1103.0</td>\n",
       "      <td>323.0</td>\n",
       "      <td>0.064309</td>\n",
       "      <td>0.031123</td>\n",
       "      <td>swin_large_patch4_window7_224_in22k</td>\n",
       "      <td>315.830871</td>\n",
       "      <td>swin</td>\n",
       "      <td>10.476562</td>\n",
       "      <td>{'runtime': 324}</td>\n",
       "      <td>NaN</td>\n",
       "      <td>NaN</td>\n",
       "      <td>pets</td>\n",
       "    </tr>\n",
       "    <tr>\n",
       "      <th>251</th>\n",
       "      <td>0.038389</td>\n",
       "      <td>123.671187</td>\n",
       "      <td>1.594899e-10</td>\n",
       "      <td>0.00001</td>\n",
       "      <td>0.00001</td>\n",
       "      <td>0.99</td>\n",
       "      <td>1.657207e+09</td>\n",
       "      <td>6.0</td>\n",
       "      <td>0.99</td>\n",
       "      <td>0.129708</td>\n",
       "      <td>0.01</td>\n",
       "      <td>0.01</td>\n",
       "      <td>0.949999</td>\n",
       "      <td>0.949999</td>\n",
       "      <td>0.964141</td>\n",
       "      <td>1.594899e-08</td>\n",
       "      <td>1103.0</td>\n",
       "      <td>323.0</td>\n",
       "      <td>0.029905</td>\n",
       "      <td>0.035859</td>\n",
       "      <td>swin_large_patch4_window7_224_in22k</td>\n",
       "      <td>315.728747</td>\n",
       "      <td>swin</td>\n",
       "      <td>10.476562</td>\n",
       "      <td>{'runtime': 324}</td>\n",
       "      <td>NaN</td>\n",
       "      <td>NaN</td>\n",
       "      <td>pets</td>\n",
       "    </tr>\n",
       "  </tbody>\n",
       "</table>\n",
       "</div>"
      ],
      "text/plain": [
       "     train_loss  train_samples_per_sec          lr_0    eps_0    eps_1  \\\n",
       "246    0.045024             124.176724  1.594899e-10  0.00001  0.00001   \n",
       "247    0.041803             123.195264  1.594899e-10  0.00001  0.00001   \n",
       "248    0.042099             123.352278  1.594899e-10  0.00001  0.00001   \n",
       "249    0.043783             123.965589  1.594899e-10  0.00001  0.00001   \n",
       "250    0.050021             123.637075  1.594899e-10  0.00001  0.00001   \n",
       "251    0.038389             123.671187  1.594899e-10  0.00001  0.00001   \n",
       "\n",
       "     sqr_mom_1    _timestamp  epoch  sqr_mom_0  valid_loss  wd_0  wd_1  \\\n",
       "246       0.99  1.657208e+09    6.0       0.99    0.130556  0.01  0.01   \n",
       "247       0.99  1.657208e+09    6.0       0.99    0.131292  0.01  0.01   \n",
       "248       0.99  1.657208e+09    6.0       0.99    0.141334  0.01  0.01   \n",
       "249       0.99  1.657207e+09    6.0       0.99    0.144168  0.01  0.01   \n",
       "250       0.99  1.657207e+09    6.0       0.99    0.127953  0.01  0.01   \n",
       "251       0.99  1.657207e+09    6.0       0.99    0.129708  0.01  0.01   \n",
       "\n",
       "        mom_0     mom_1  accuracy          lr_1   _step  _runtime  raw_loss  \\\n",
       "246  0.949999  0.949999  0.964817  1.594899e-08  1103.0     322.0  0.128044   \n",
       "247  0.949999  0.949999  0.965494  1.594899e-08  1103.0     324.0  0.007642   \n",
       "248  0.949999  0.949999  0.962111  1.594899e-08  1103.0     324.0  0.134295   \n",
       "249  0.949999  0.949999  0.959405  1.594899e-08  1103.0     323.0  0.022469   \n",
       "250  0.949999  0.949999  0.968877  1.594899e-08  1103.0     323.0  0.064309   \n",
       "251  0.949999  0.949999  0.964141  1.594899e-08  1103.0     323.0  0.029905   \n",
       "\n",
       "     error_rate                           model_name    fit_time model_family  \\\n",
       "246    0.035183  swin_large_patch4_window7_224_in22k  315.049255         swin   \n",
       "247    0.034506  swin_large_patch4_window7_224_in22k  316.881157         swin   \n",
       "248    0.037889  swin_large_patch4_window7_224_in22k  316.597845         swin   \n",
       "249    0.040595  swin_large_patch4_window7_224_in22k  315.575088         swin   \n",
       "250    0.031123  swin_large_patch4_window7_224_in22k  315.830871         swin   \n",
       "251    0.035859  swin_large_patch4_window7_224_in22k  315.728747         swin   \n",
       "\n",
       "       GPU_mem            _wandb  fbeta_score  accuracy_multi dataset  \n",
       "246  10.462891  {'runtime': 323}          NaN             NaN    pets  \n",
       "247  10.455078  {'runtime': 325}          NaN             NaN    pets  \n",
       "248  10.458984  {'runtime': 325}          NaN             NaN    pets  \n",
       "249  10.482422  {'runtime': 324}          NaN             NaN    pets  \n",
       "250  10.476562  {'runtime': 324}          NaN             NaN    pets  \n",
       "251  10.476562  {'runtime': 324}          NaN             NaN    pets  "
      ]
     },
     "execution_count": 102,
     "metadata": {},
     "output_type": "execute_result"
    }
   ],
   "source": [
    "cols = ['accuracy', 'accuracy_multi']\n",
    "model_finetuning_cost_perf"
   ]
  },
  {
   "cell_type": "code",
   "execution_count": 106,
   "id": "1bfd8392-63ff-4c64-8b43-5518556d1494",
   "metadata": {},
   "outputs": [
    {
     "data": {
      "text/plain": [
       "array([1.06521739, 6.        ,        nan, 0.32      ])"
      ]
     },
     "execution_count": 106,
     "metadata": {},
     "output_type": "execute_result"
    }
   ],
   "source": [
    "df.epoch.unique()"
   ]
  },
  {
   "cell_type": "code",
   "execution_count": null,
   "id": "5d15fc37-00e0-4be8-9cc1-1c80d3b4fa31",
   "metadata": {},
   "outputs": [],
   "source": []
  }
 ],
 "metadata": {
  "kernelspec": {
   "display_name": "Python 3",
   "language": "python",
   "name": "python3"
  },
  "language_info": {
   "codemirror_mode": {
    "name": "ipython",
    "version": 3
   },
   "file_extension": ".py",
   "mimetype": "text/x-python",
   "name": "python",
   "nbconvert_exporter": "python",
   "pygments_lexer": "ipython3",
   "version": "3.8.10"
  },
  "toc": {
   "base_numbering": 1,
   "nav_menu": {},
   "number_sections": false,
   "sideBar": true,
   "skip_h1_title": false,
   "title_cell": "Table of Contents",
   "title_sidebar": "Contents",
   "toc_cell": false,
   "toc_position": {},
   "toc_section_display": true,
   "toc_window_display": false
  }
 },
 "nbformat": 4,
 "nbformat_minor": 5
}
