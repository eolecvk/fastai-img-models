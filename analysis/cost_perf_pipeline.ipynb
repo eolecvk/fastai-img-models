{
 "cells": [
  {
   "cell_type": "markdown",
   "id": "4d858231-147a-442b-8a45-f5b6585e8d6d",
   "metadata": {},
   "source": [
    "Outline:\n",
    "1. Select 1 model\n",
    "2. Run 1 to 20 trials in increments of 5 and log increase in mean accuracy\n",
    "3. Graph on notebook"
   ]
  },
  {
   "cell_type": "code",
   "execution_count": null,
   "id": "09c48adc-4493-4583-9d97-27f0d024d74f",
   "metadata": {},
   "outputs": [],
   "source": [
    "from fine_tune import train, arg_parse\n",
    "\n",
    "config = parse_args()\n",
    "model_name = 'swin_base_patch4_window7_224_in22k'\n"
   ]
  },
  {
   "cell_type": "code",
   "execution_count": null,
   "id": "53356788-7b65-4376-be46-83d0a36ff141",
   "metadata": {},
   "outputs": [],
   "source": [
    "config = {\n",
    "    \n",
    "model_name = 'swin_base_patch4_window7_224_in22k'\n",
    "lr = [0.002, 0.008]\n",
    "epochs = [1, 5, 10, 15, 20]\n",
    "\n"
   ]
  }
 ],
 "metadata": {
  "kernelspec": {
   "display_name": "Python 3",
   "language": "python",
   "name": "python3"
  },
  "language_info": {
   "codemirror_mode": {
    "name": "ipython",
    "version": 3
   },
   "file_extension": ".py",
   "mimetype": "text/x-python",
   "name": "python",
   "nbconvert_exporter": "python",
   "pygments_lexer": "ipython3",
   "version": "3.8.10"
  }
 },
 "nbformat": 4,
 "nbformat_minor": 5
}
