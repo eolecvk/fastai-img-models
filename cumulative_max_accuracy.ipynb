{
 "cells": [
  {
   "cell_type": "code",
   "execution_count": 1,
   "id": "4540a22e-c4a7-46f5-b714-2a1cff531101",
   "metadata": {},
   "outputs": [],
   "source": [
    "!pip install fastcore >/dev/null 2>&1\n",
    "!pip install wandb >/dev/null 2>&1\n",
    "!pip install ghapi >/dev/null 2>&1"
   ]
  },
  {
   "cell_type": "code",
   "execution_count": 2,
   "id": "fa266bbc-74bd-4772-aea0-35bb07205d5b",
   "metadata": {},
   "outputs": [
    {
     "name": "stderr",
     "output_type": "stream",
     "text": [
      "wandb: Currently logged in as: eolecvka. Use `wandb login --relogin` to force relogin\n"
     ]
    },
    {
     "data": {
      "text/plain": [
       "True"
      ]
     },
     "execution_count": 2,
     "metadata": {},
     "output_type": "execute_result"
    }
   ],
   "source": [
    "import wandb\n",
    "wandb.login()"
   ]
  },
  {
   "cell_type": "code",
   "execution_count": 6,
   "id": "ff4c9b8f-7bbc-4fcc-ac98-775dedf0818d",
   "metadata": {},
   "outputs": [],
   "source": [
    "import wandb,os\n",
    "from fastcore.all import *\n",
    "import pandas as pd\n",
    "\n",
    "api = wandb.Api()\n",
    "\n",
    "sweep_ids = [\n",
    "    'eolecvka/fastai-img-models/sweeps/20gckfsi'\n",
    "]\n",
    "sweeps = concat(api.sweep(o).runs for o in sweep_ids)\n",
    "summs = [{**r.summary, 'model_name':r.config['model_name']} for r in sweeps]\n",
    "\n",
    "df = pd.DataFrame(summs)\n",
    "df['error_rate'] = 1-df.accuracy\n",
    "\n",
    "pd.set_option('display.max_columns', None)"
   ]
  },
  {
   "cell_type": "code",
   "execution_count": 10,
   "id": "6e0b412c-4bdc-4c02-a141-b2a7b364afa8",
   "metadata": {},
   "outputs": [
    {
     "data": {
      "text/plain": [
       "[nan,\n",
       " 1657844540.0,\n",
       " 1657844543.0,\n",
       " 1657844449.0,\n",
       " 1657844331.0,\n",
       " 1657844382.0,\n",
       " 1657844148.0,\n",
       " 1657844082.0,\n",
       " 1657844237.0,\n",
       " 1657843939.0,\n",
       " 1657843938.0,\n",
       " 1657843858.0,\n",
       " 1657843837.0,\n",
       " 1657843727.0,\n",
       " 1657843756.0,\n",
       " 1657843562.0,\n",
       " 1657843495.0,\n",
       " 1657843362.0,\n",
       " 1657843456.0,\n",
       " 1657843253.0,\n",
       " 1657843199.0]"
      ]
     },
     "execution_count": 10,
     "metadata": {},
     "output_type": "execute_result"
    }
   ],
   "source": [
    "df['_timestamp'].tolist()"
   ]
  },
  {
   "cell_type": "code",
   "execution_count": 16,
   "id": "d4c41fe8-c2df-4c9f-bf00-400e1706f35c",
   "metadata": {},
   "outputs": [
    {
     "data": {
      "text/plain": [
       "[<matplotlib.lines.Line2D at 0x7f4f114301c0>]"
      ]
     },
     "execution_count": 16,
     "metadata": {},
     "output_type": "execute_result"
    },
    {
     "data": {
      "image/png": "[encoded data removed]",
      "text/plain": [
       "<Figure size 432x288 with 1 Axes>"
      ]
     },
     "metadata": {
      "needs_background": "light"
     },
     "output_type": "display_data"
    }
   ],
   "source": [
    "from matplotlib import pyplot as plt\n",
    "df_sorted = df.sort_values('_timestamp').dropna()\n",
    "df_sorted['best_acc'] = df_sorted['accuracy'].cummax()\n",
    "plt.plot(df_sorted['_timestamp'], df_sorted['best_acc'])"
   ]
  },
  {
   "cell_type": "code",
   "execution_count": null,
   "id": "db297478-c53f-4119-8256-59a6b4cf8ffd",
   "metadata": {},
   "outputs": [],
   "source": []
  }
 ],
 "metadata": {
  "kernelspec": {
   "display_name": "Python 3",
   "language": "python",
   "name": "python3"
  },
  "language_info": {
   "codemirror_mode": {
    "name": "ipython",
    "version": 3
   },
   "file_extension": ".py",
   "mimetype": "text/x-python",
   "name": "python",
   "nbconvert_exporter": "python",
   "pygments_lexer": "ipython3",
   "version": "3.8.10"
  }
 },
 "nbformat": 4,
 "nbformat_minor": 5
}
