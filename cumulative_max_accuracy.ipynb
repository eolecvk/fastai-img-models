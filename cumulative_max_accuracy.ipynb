{
 "cells": [
  {
   "cell_type": "markdown",
   "id": "a4975232-349d-4d13-aa43-4ce85f32699b",
   "metadata": {},
   "source": [
    "# Performance v Cost analysis of sweep for an image classification task"
   ]
  },
  {
   "cell_type": "markdown",
   "id": "c45a6272-3106-4a7f-a100-3681784b6f0f",
   "metadata": {},
   "source": [
    "## Install dependencies"
   ]
  },
  {
   "cell_type": "code",
   "execution_count": 1,
   "id": "4540a22e-c4a7-46f5-b714-2a1cff531101",
   "metadata": {},
   "outputs": [],
   "source": [
    "!pip install fastcore >/dev/null 2>&1\n",
    "!pip install wandb >/dev/null 2>&1\n",
    "!pip install ghapi >/dev/null 2>&1"
   ]
  },
  {
   "cell_type": "markdown",
   "id": "fa1b5d4a-ea83-4ff5-9077-64d14a5525ea",
   "metadata": {},
   "source": [
    "### Weight and Biases login"
   ]
  },
  {
   "cell_type": "code",
   "execution_count": 2,
   "id": "fa266bbc-74bd-4772-aea0-35bb07205d5b",
   "metadata": {},
   "outputs": [
    {
     "name": "stderr",
     "output_type": "stream",
     "text": [
      "wandb: Currently logged in as: eolecvka. Use `wandb login --relogin` to force relogin\n"
     ]
    },
    {
     "data": {
      "text/plain": [
       "True"
      ]
     },
     "execution_count": 2,
     "metadata": {},
     "output_type": "execute_result"
    }
   ],
   "source": [
    "import wandb\n",
    "wandb.login()"
   ]
  },
  {
   "cell_type": "markdown",
   "id": "dfa9c3a0-e39d-4d0b-a338-f965e0d8774d",
   "metadata": {},
   "source": [
    "### Fetch sweep data"
   ]
  },
  {
   "cell_type": "code",
   "execution_count": 3,
   "id": "ff4c9b8f-7bbc-4fcc-ac98-775dedf0818d",
   "metadata": {},
   "outputs": [],
   "source": [
    "import wandb,os\n",
    "from fastcore.all import *\n",
    "import pandas as pd\n",
    "\n",
    "api = wandb.Api()\n",
    "\n",
    "sweep_ids = [\n",
    "    'eolecvka/fastai-img-models/sweeps/20gckfsi'\n",
    "]\n",
    "sweeps = concat(api.sweep(o).runs for o in sweep_ids)\n",
    "summs = [{**r.summary, 'model_name':r.config['model_name']} for r in sweeps]\n",
    "\n",
    "df = pd.DataFrame(summs)\n",
    "df['error_rate'] = 1-df.accuracy\n",
    "\n",
    "df = df.sort_values('_timestamp').dropna()"
   ]
  },
  {
   "cell_type": "markdown",
   "id": "0945f693-f858-489a-ad63-4babc2dac977",
   "metadata": {},
   "source": [
    "### Add custom columns (time since start of sweep, cumulative max accuracy)"
   ]
  },
  {
   "cell_type": "code",
   "execution_count": 4,
   "id": "cd2e3be5-ee1f-4bc8-a976-c8f09da27708",
   "metadata": {},
   "outputs": [],
   "source": [
    "# Compute column: time since start of sweep\n",
    "from datetime import datetime\n",
    "def get_time_from_ts(ts):\n",
    "    dt = datetime.fromtimestamp(ts)\n",
    "    return dt.strftime(\"%H:%M:%S\")\n",
    "\n",
    "fit_time_first_run = df.iloc[0]['fit_time']\n",
    "df['time'] = (df['_timestamp'] - df['_timestamp'].min() + fit_time_first_run) / 3600\n",
    "\n",
    "# Compute column: cumulative max accuracy\n",
    "df['best_acc'] = df['accuracy'].cummax()"
   ]
  },
  {
   "cell_type": "markdown",
   "id": "e4bb16f2-2737-416e-9bf4-94cee48bbb67",
   "metadata": {},
   "source": [
    "### Visualize : best model found vs duration of sweep"
   ]
  },
  {
   "cell_type": "code",
   "execution_count": 10,
   "id": "d4c41fe8-c2df-4c9f-bf00-400e1706f35c",
   "metadata": {},
   "outputs": [
    {
     "data": {
      "text/plain": [
       "[<matplotlib.lines.Line2D at 0x7f64f1a63970>]"
      ]
     },
     "execution_count": 10,
     "metadata": {},
     "output_type": "execute_result"
    },
    {
     "data": {
      "image/png": "[encoded data removed]",
      "text/plain": [
       "<Figure size 432x288 with 1 Axes>"
      ]
     },
     "metadata": {
      "needs_background": "light"
     },
     "output_type": "display_data"
    }
   ],
   "source": [
    "from matplotlib import pyplot as plt\n",
    "plt.title('Performance of best model found based on duration of sweep')\n",
    "plt.xlabel('hours')\n",
    "plt.ylabel('accuracy')\n",
    "plt.plot(df['time'], df['best_acc'])"
   ]
  }
 ],
 "metadata": {
  "kernelspec": {
   "display_name": "Python 3",
   "language": "python",
   "name": "python3"
  },
  "language_info": {
   "codemirror_mode": {
    "name": "ipython",
    "version": 3
   },
   "file_extension": ".py",
   "mimetype": "text/x-python",
   "name": "python",
   "nbconvert_exporter": "python",
   "pygments_lexer": "ipython3",
   "version": "3.8.10"
  }
 },
 "nbformat": 4,
 "nbformat_minor": 5
}
