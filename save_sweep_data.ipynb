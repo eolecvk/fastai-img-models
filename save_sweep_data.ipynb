{
 "cells": [
  {
   "cell_type": "markdown",
   "id": "d38310a0-755d-43fa-9ff7-8487ab562bb4",
   "metadata": {},
   "source": [
    "Install requirements"
   ]
  },
  {
   "cell_type": "code",
   "execution_count": 1,
   "id": "be5c5f3a-88e2-42ec-99b2-6405dc1ea9a2",
   "metadata": {},
   "outputs": [],
   "source": [
    "!pip install fastcore >/dev/null 2>&1\n",
    "!pip install wandb >/dev/null 2>&1\n",
    "!pip install ghapi >/dev/null 2>&1"
   ]
  },
  {
   "cell_type": "markdown",
   "id": "b0344156-eefc-4518-bdea-0700d0d46be9",
   "metadata": {},
   "source": [
    "Wandb login"
   ]
  },
  {
   "cell_type": "code",
   "execution_count": 2,
   "id": "776fc267-36c4-49c5-9257-9f113b40fa76",
   "metadata": {},
   "outputs": [
    {
     "name": "stderr",
     "output_type": "stream",
     "text": [
      "wandb: Currently logged in as: eolecvka. Use `wandb login --relogin` to force relogin\n"
     ]
    },
    {
     "data": {
      "text/plain": [
       "True"
      ]
     },
     "execution_count": 2,
     "metadata": {},
     "output_type": "execute_result"
    }
   ],
   "source": [
    "import wandb\n",
    "wandb.login()"
   ]
  },
  {
   "cell_type": "markdown",
   "id": "21b3931d-6fd9-49cc-986a-f52ee0b038cc",
   "metadata": {},
   "source": [
    "Fetch sweep output data"
   ]
  },
  {
   "cell_type": "code",
   "execution_count": 6,
   "id": "a07cb3ed-221c-4c3c-afab-ee05bcfb5d52",
   "metadata": {},
   "outputs": [],
   "source": [
    "import wandb,os\n",
    "from fastcore.all import *\n",
    "import pandas as pd\n",
    "\n",
    "api = wandb.Api()\n",
    "\n",
    "sweep_ids = [\n",
    "    'eolecvka/fastai-img-models/sweeps/a6bqgnpb'\n",
    "]\n",
    "sweeps = concat(api.sweep(o).runs for o in sweep_ids)\n",
    "summs = [{**r.summary, 'model_name':r.config['model_name']} for r in sweeps]\n",
    "\n",
    "df = pd.DataFrame(summs)\n",
    "\n",
    "#df['dataset'] = 'planet'\n",
    "df['dataset'] = 'pets'\n",
    "#df.loc[df['accuracy_multi'].isna(), 'dataset'] = 'pets'\n",
    "#df.loc[df['dataset']=='planet', 'accuracy'] = df.loc[df['dataset']=='planet', 'accuracy_multi']\n",
    "df['error_rate'] = 1-df.accuracy\n",
    "\n",
    "pd.set_option('display.max_columns', None)\n",
    "# df"
   ]
  },
  {
   "cell_type": "markdown",
   "id": "9c4c54c8-c99b-4aad-9896-8b3dde50f3e0",
   "metadata": {},
   "source": [
    "Save as Gist csv file"
   ]
  },
  {
   "cell_type": "code",
   "execution_count": 7,
   "id": "8b916079",
   "metadata": {},
   "outputs": [],
   "source": [
    "from io import StringIO\n",
    "import ghapi.core as gh"
   ]
  },
  {
   "cell_type": "code",
   "execution_count": 8,
   "id": "c029a7dd-4131-49ba-bbe8-7da43d202959",
   "metadata": {},
   "outputs": [],
   "source": [
    "strm = StringIO()\n",
    "cols = ['dataset', 'model_name', 'GPU_mem', 'error_rate', 'valid_loss', 'train_loss', 'fit_time']\n",
    "df[cols].to_csv(strm, index=False)\n",
    "txt = strm.getvalue()"
   ]
  },
  {
   "cell_type": "code",
   "execution_count": 11,
   "id": "8b7b0c83-1aac-4da4-ae44-5715d8c362aa",
   "metadata": {},
   "outputs": [],
   "source": [
    "# Assumes I have set the environment variable GITHUB_TOKEN prior to running this notebook\n",
    "g = gh.GhApi(owner='eolecvk', repo='fastai-img-models', token=os.environ['GITHUB_TOKEN'])\n",
    "gist = g.create_gist('fastai_timm repro', txt, filename='fastai_timm_repro.csv', public=True)"
   ]
  },
  {
   "cell_type": "code",
   "execution_count": 13,
   "id": "8fa9a680-2ba6-47ae-b5b0-d2b1f3d4531e",
   "metadata": {},
   "outputs": [
    {
     "data": {
      "text/plain": [
       "'https://gist.github.com/5fb35bcd2536e8a78492da6a04686ddf'"
      ]
     },
     "execution_count": 13,
     "metadata": {},
     "output_type": "execute_result"
    }
   ],
   "source": [
    "gist.html_url"
   ]
  },
  {
   "cell_type": "code",
   "execution_count": null,
   "id": "be2a099b-e727-4bff-9407-ece86117b88b",
   "metadata": {},
   "outputs": [],
   "source": []
  }
 ],
 "metadata": {
  "kernelspec": {
   "display_name": "Python 3",
   "language": "python",
   "name": "python3"
  },
  "language_info": {
   "codemirror_mode": {
    "name": "ipython",
    "version": 3
   },
   "file_extension": ".py",
   "mimetype": "text/x-python",
   "name": "python",
   "nbconvert_exporter": "python",
   "pygments_lexer": "ipython3",
   "version": "3.8.10"
  },
  "toc": {
   "base_numbering": 1,
   "nav_menu": {},
   "number_sections": false,
   "sideBar": true,
   "skip_h1_title": false,
   "title_cell": "Table of Contents",
   "title_sidebar": "Contents",
   "toc_cell": false,
   "toc_position": {},
   "toc_section_display": true,
   "toc_window_display": false
  }
 },
 "nbformat": 4,
 "nbformat_minor": 5
}
