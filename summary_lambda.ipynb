{
 "cells": [
  {
   "cell_type": "markdown",
   "id": "8d379150-6671-492f-8096-9a19dede2528",
   "metadata": {},
   "source": [
    "# Fine tuning vision models on lambda cloud: a cost-performance analysis\n",
    "\n",
    "*This notebook presents a cost-performance analysis of fine-tuning the vision models presented in [fast.ai article](The best vision models for fine-tuning) on Lambda Cloud.*"
   ]
  },
  {
   "cell_type": "markdown",
   "id": "d38310a0-755d-43fa-9ff7-8487ab562bb4",
   "metadata": {},
   "source": [
    "## 1. Setup\n",
    "\n",
    "Install dependencies"
   ]
  },
  {
   "cell_type": "code",
   "execution_count": 4,
   "id": "be5c5f3a-88e2-42ec-99b2-6405dc1ea9a2",
   "metadata": {},
   "outputs": [],
   "source": [
    "!pip install fastcore >/dev/null 2>&1\n",
    "!pip install wandb >/dev/null 2>&1\n",
    "!pip install ghapi >/dev/null 2>&1"
   ]
  },
  {
   "cell_type": "markdown",
   "id": "b0344156-eefc-4518-bdea-0700d0d46be9",
   "metadata": {},
   "source": [
    "Wandb login"
   ]
  },
  {
   "cell_type": "code",
   "execution_count": 5,
   "id": "776fc267-36c4-49c5-9257-9f113b40fa76",
   "metadata": {},
   "outputs": [
    {
     "name": "stderr",
     "output_type": "stream",
     "text": [
      "wandb: Currently logged in as: eolecvka. Use `wandb login --relogin` to force relogin\n"
     ]
    },
    {
     "data": {
      "text/plain": [
       "True"
      ]
     },
     "execution_count": 5,
     "metadata": {},
     "output_type": "execute_result"
    }
   ],
   "source": [
    "import wandb\n",
    "wandb.login()"
   ]
  },
  {
   "cell_type": "markdown",
   "id": "21b3931d-6fd9-49cc-986a-f52ee0b038cc",
   "metadata": {},
   "source": [
    "Fetch sweep output data"
   ]
  },
  {
   "cell_type": "code",
   "execution_count": null,
   "id": "a07cb3ed-221c-4c3c-afab-ee05bcfb5d52",
   "metadata": {},
   "outputs": [],
   "source": [
    "import wandb,os\n",
    "from fastcore.all import *\n",
    "import pandas as pd\n",
    "\n",
    "api = wandb.Api()\n",
    "\n",
    "sweep_ids = [\n",
    "    'eolecvka/fastai_timm/sweeps/ygh90vj4'\n",
    "]\n",
    "sweeps = concat(api.sweep(o).runs for o in sweep_ids)\n",
    "summs = [{**r.summary, 'model_name':r.config['model_name']} for r in sweeps]\n",
    "\n",
    "df = pd.DataFrame(summs)\n",
    "df['dataset'] = 'planet'\n",
    "df.loc[df['accuracy_multi'].isna(), 'dataset'] = 'pets'\n",
    "df.loc[df['dataset']=='planet', 'accuracy'] = df.loc[df['dataset']=='planet', 'accuracy_multi']\n",
    "df['error_rate'] = 1-df.accuracy\n",
    "\n",
    "pd.set_option('display.max_columns', None)\n",
    "# df"
   ]
  },
  {
   "cell_type": "markdown",
   "id": "9c4c54c8-c99b-4aad-9896-8b3dde50f3e0",
   "metadata": {},
   "source": [
    "Build summary tables"
   ]
  },
  {
   "cell_type": "code",
   "execution_count": null,
   "id": "8b916079",
   "metadata": {},
   "outputs": [],
   "source": [
    "# cols = ['dataset', 'model_name', 'GPU_mem', 'error_rate', 'valid_loss', 'train_loss', 'fit_time']\n",
    "cols = ['model_name', 'dataset', 'fit_time', '_runtime', 'accuracy']\n",
    "\n",
    "df_pets = df.loc[df['dataset']=='pets']\n",
    "df_planets = df.loc[df['dataset']=='planet']\n",
    "\n",
    "df_pets_top_models_acc = df_pets[columns].groupby(['model_name']).agg('max').sort_values('accuracy', ascending=False).dropna()\n",
    "df_planets_top_models_acc =df_planets[columns].groupby(['model_name']).agg('max').sort_values('accuracy', ascending=False).dropna()"
   ]
  },
  {
   "cell_type": "code",
   "execution_count": null,
   "id": "c029a7dd-4131-49ba-bbe8-7da43d202959",
   "metadata": {},
   "outputs": [],
   "source": [
    "df_pets_top_models_acc.head()"
   ]
  },
  {
   "cell_type": "code",
   "execution_count": null,
   "id": "8b7b0c83-1aac-4da4-ae44-5715d8c362aa",
   "metadata": {},
   "outputs": [],
   "source": [
    "df_planets_top_models_acc.head()"
   ]
  },
  {
   "cell_type": "markdown",
   "id": "85ec7d8c-91bd-497b-83e7-72f8a813e22b",
   "metadata": {},
   "source": [
    "## Visual analysis: fit time vs accuracy"
   ]
  },
  {
   "cell_type": "code",
   "execution_count": null,
   "id": "8fa9a680-2ba6-47ae-b5b0-d2b1f3d4531e",
   "metadata": {},
   "outputs": [],
   "source": [
    "import numpy as np\n",
    "import matplotlib.pyplot as plt\n",
    "\n",
    "x = df_planets_top_models_acc.fit_time.tolist()\n",
    "y = df_planets_top_models_acc.accuracy.tolist()\n",
    "plt.scatter(x, y, alpha=0.5)\n",
    "plt.title(\"Cost-performance analysis of models fine-tuning on Planet dataset\")\n",
    "plt.xlabel(\"Runtime (seconds)\")\n",
    "plt.ylabel(\"Accuracy\")\n",
    "plt.show()"
   ]
  },
  {
   "cell_type": "code",
   "execution_count": null,
   "id": "509637ae-92ac-4bbb-8591-2c2b0b0f9d3b",
   "metadata": {},
   "outputs": [],
   "source": [
    "import numpy as np\n",
    "import matplotlib.pyplot as plt\n",
    "\n",
    "x = df_pets_top_models_acc._runtime.tolist()\n",
    "y = df_pets_top_models_acc.accuracy.tolist()\n",
    "plt.scatter(x, y, alpha=0.5)\n",
    "plt.title(\"Cost-performance analysis of models fine-tuning on IIT Pets dataset\")\n",
    "plt.xlabel(\"Runtime (seconds)\")\n",
    "plt.ylabel(\"Accuracy\")\n",
    "plt.show()"
   ]
  },
  {
   "cell_type": "markdown",
   "id": "90b1cd1d-2a67-455e-b7a1-37c5df33f828",
   "metadata": {},
   "source": [
    "???"
   ]
  },
  {
   "cell_type": "code",
   "execution_count": null,
   "id": "a18facf6-c0b0-476c-9abc-1e477a1ad452",
   "metadata": {},
   "outputs": [],
   "source": [
    "model_name = 'swin_large_patch4_window7_224_in22k'\n",
    "dataset_name = 'planet'\n",
    "\n",
    "model_finetuning_cost_perf = df.loc[\n",
    "    (df['model_name']==model_name) &\n",
    "    (df['dataset']==dataset_name)\n",
    "]\n",
    "\n",
    "import numpy as np\n",
    "import matplotlib.pyplot as plt\n",
    "\n",
    "x = model_finetuning_cost_perf._runtime.tolist()\n",
    "y = model_finetuning_cost_perf.accuracy.tolist()\n",
    "plt.scatter(x, y, alpha=0.5)\n",
    "plt.title(f\"Cost-performance analysis of models fine-tuning on {dataset_name} dataset\")\n",
    "plt.xlabel(\"Runtime (seconds)\")\n",
    "plt.ylabel(\"Accuracy\")\n",
    "plt.show()"
   ]
  },
  {
   "cell_type": "markdown",
   "id": "851c0b0f-2d6f-492d-b6bb-2c689c21a59a",
   "metadata": {},
   "source": [
    "Why does it look like this??"
   ]
  },
  {
   "cell_type": "code",
   "execution_count": null,
   "id": "c206c2e0-fbbf-40af-96b6-b04f8da9505b",
   "metadata": {},
   "outputs": [],
   "source": [
    "cols = ['accuracy', 'accuracy_multi']\n",
    "model_finetuning_cost_perf"
   ]
  },
  {
   "cell_type": "code",
   "execution_count": null,
   "id": "1bfd8392-63ff-4c64-8b43-5518556d1494",
   "metadata": {},
   "outputs": [],
   "source": [
    "df.epoch.unique()"
   ]
  },
  {
   "cell_type": "code",
   "execution_count": 6,
   "id": "5d15fc37-00e0-4be8-9cc1-1c80d3b4fa31",
   "metadata": {},
   "outputs": [
    {
     "data": {
      "text/html": [
       "Tracking run with wandb version 0.12.21"
      ],
      "text/plain": [
       "<IPython.core.display.HTML object>"
      ]
     },
     "metadata": {},
     "output_type": "display_data"
    },
    {
     "data": {
      "text/html": [
       "Run data is saved locally in <code>/home/ubuntu/fastai-img-models/wandb/run-20220713_165926-2f8jn4kz</code>"
      ],
      "text/plain": [
       "<IPython.core.display.HTML object>"
      ]
     },
     "metadata": {},
     "output_type": "display_data"
    },
    {
     "data": {
      "text/html": [
       "Syncing run <strong><a href=\"https://wandb.ai/eolecvka/fastai-img-models/runs/2f8jn4kz\" target=\"_blank\">hearty-silence-1768</a></strong> to <a href=\"https://wandb.ai/eolecvka/fastai-img-models\" target=\"_blank\">Weights & Biases</a> (<a href=\"https://wandb.me/run\" target=\"_blank\">docs</a>)<br/>"
      ],
      "text/plain": [
       "<IPython.core.display.HTML object>"
      ]
     },
     "metadata": {},
     "output_type": "display_data"
    },
    {
     "data": {
      "text/html": [
       "<button onClick=\"this.nextSibling.style.display='block';this.style.display='none';\">Display W&B run</button><iframe src=\"https://wandb.ai/eolecvka/fastai-img-models/runs/2f8jn4kz?jupyter=true\" style=\"border:none;width:100%;height:420px;display:none;\"></iframe>"
      ],
      "text/plain": [
       "<wandb.sdk.wandb_run.Run at 0x7fcd1f020100>"
      ]
     },
     "execution_count": 6,
     "metadata": {},
     "output_type": "execute_result"
    }
   ],
   "source": [
    "wandb.init()"
   ]
  },
  {
   "cell_type": "code",
   "execution_count": 9,
   "id": "806f7923-e300-4518-addc-3fb0ff2f2d40",
   "metadata": {},
   "outputs": [
    {
     "ename": "NameError",
     "evalue": "name 'run' is not defined",
     "output_type": "error",
     "traceback": [
      "\u001b[0;31m---------------------------------------------------------------------------\u001b[0m",
      "\u001b[0;31mNameError\u001b[0m                                 Traceback (most recent call last)",
      "\u001b[0;32m<ipython-input-9-33c6d19c25ed>\u001b[0m in \u001b[0;36m<module>\u001b[0;34m\u001b[0m\n\u001b[0;32m----> 1\u001b[0;31m \u001b[0mrun\u001b[0m\u001b[0;34m.\u001b[0m\u001b[0mdisplay\u001b[0m\u001b[0;34m(\u001b[0m\u001b[0mheight\u001b[0m\u001b[0;34m=\u001b[0m\u001b[0;36m720\u001b[0m\u001b[0;34m)\u001b[0m\u001b[0;34m\u001b[0m\u001b[0;34m\u001b[0m\u001b[0m\n\u001b[0m",
      "\u001b[0;31mNameError\u001b[0m: name 'run' is not defined"
     ]
    }
   ],
   "source": [
    "run.display(height=720)"
   ]
  },
  {
   "cell_type": "code",
   "execution_count": 13,
   "id": "8eb2528b-88d9-492e-92c6-cdfb0d7ddc51",
   "metadata": {},
   "outputs": [
    {
     "name": "stderr",
     "output_type": "stream",
     "text": [
      "/usr/lib/python3/dist-packages/IPython/core/display.py:701: UserWarning: Consider using IPython.display.IFrame instead\n",
      "  warnings.warn(\"Consider using IPython.display.IFrame instead\")\n"
     ]
    },
    {
     "data": {
      "text/html": [
       "<iframe src=\"https://wandb.ai/eolecvka/fastai_timm/sweeps/ygh90vj4?jupyter=true\" style=\"border:none;width:100%;height:1080px;\"></iframe>"
      ],
      "text/plain": [
       "<IPython.core.display.HTML object>"
      ]
     },
     "metadata": {},
     "output_type": "display_data"
    },
    {
     "data": {
      "text/plain": [
       "True"
      ]
     },
     "execution_count": 13,
     "metadata": {},
     "output_type": "execute_result"
    }
   ],
   "source": [
    "api = wandb.Api()\n",
    "\n",
    "team, project, sweep_id = \"eolecvka\", \"fastai_timm\", \"ygh90vj4\"\n",
    "run = api.sweep(f\"{team}/{project}/{run_id}\")\n",
    "run.display(height=1080)"
   ]
  },
  {
   "cell_type": "code",
   "execution_count": null,
   "id": "0b986661-7c3e-4acc-9ef2-516bce6a22e6",
   "metadata": {},
   "outputs": [],
   "source": []
  }
 ],
 "metadata": {
  "kernelspec": {
   "display_name": "Python 3",
   "language": "python",
   "name": "python3"
  },
  "language_info": {
   "codemirror_mode": {
    "name": "ipython",
    "version": 3
   },
   "file_extension": ".py",
   "mimetype": "text/x-python",
   "name": "python",
   "nbconvert_exporter": "python",
   "pygments_lexer": "ipython3",
   "version": "3.8.10"
  },
  "toc": {
   "base_numbering": 1,
   "nav_menu": {},
   "number_sections": false,
   "sideBar": true,
   "skip_h1_title": false,
   "title_cell": "Table of Contents",
   "title_sidebar": "Contents",
   "toc_cell": false,
   "toc_position": {},
   "toc_section_display": true,
   "toc_window_display": false
  }
 },
 "nbformat": 4,
 "nbformat_minor": 5
}
